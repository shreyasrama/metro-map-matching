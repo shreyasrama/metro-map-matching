{
 "cells": [
  {
   "cell_type": "markdown",
   "id": "812f42b8",
   "metadata": {},
   "source": [
    "# Metro map matching test Jupyter Notebook\n",
    "\n",
    "Use this notebook to test shapes defined in `test_shape.txt` rather than running the entire `main.py` script.\n",
    "\n",
    "Outputs results to a local file `test_shape.html`. Blue lines denote the existing shape, and red lines are the map matched shape."
   ]
  },
  {
   "cell_type": "code",
   "execution_count": 8,
   "id": "9fda3b95",
   "metadata": {},
   "outputs": [
    {
     "data": {
      "text/plain": [
       "True"
      ]
     },
     "execution_count": 8,
     "metadata": {},
     "output_type": "execute_result"
    }
   ],
   "source": [
    "import os\n",
    "import requests\n",
    "import json\n",
    "import folium\n",
    "import polyline\n",
    "import pandas as pd\n",
    "from dotenv import load_dotenv\n",
    "\n",
    "load_dotenv()"
   ]
  },
  {
   "cell_type": "markdown",
   "id": "5a34ef3d",
   "metadata": {},
   "source": [
    "## Plot existing shapes"
   ]
  },
  {
   "cell_type": "code",
   "execution_count": 9,
   "id": "eb3c370b",
   "metadata": {},
   "outputs": [],
   "source": [
    "test_shape_df = pd.read_csv('test_shape.txt')\n",
    "grouped_shapes = test_shape_df.groupby('shape_id')\n",
    "\n",
    "m = folium.Map(\n",
    "    location=[test_shape_df['shape_pt_lat'].mean(), test_shape_df['shape_pt_lon'].mean()], \n",
    "    zoom_start=12\n",
    ")\n",
    "\n",
    "for shape_id, group in grouped_shapes:\n",
    "    points = list(zip(group['shape_pt_lat'], group['shape_pt_lon']))\n",
    "    folium.PolyLine(points, color=\"blue\", weight=2.5, opacity=1).add_to(m)"
   ]
  },
  {
   "cell_type": "markdown",
   "id": "fc4db091",
   "metadata": {},
   "source": [
    "## Perform map matching API call and add result to map"
   ]
  },
  {
   "cell_type": "code",
   "execution_count": null,
   "id": "daf3c123",
   "metadata": {},
   "outputs": [],
   "source": [
    "trace_attribute_headers = {\n",
    "    'Content-Type': 'application/json',\n",
    "    'Cache-Control': 'no-cache'\n",
    "}\n",
    "\n",
    "for shape_id, group in grouped_shapes:\n",
    "    points = []\n",
    "    for idx, row in group.iterrows():\n",
    "        point_type = \"via\"\n",
    "        if idx == group.index[0]:\n",
    "            point_type = \"break\"\n",
    "        elif idx == group.index[-1]:\n",
    "            point_type = \"break\"\n",
    "        points.append({\n",
    "            \"lat\": float(row[\"shape_pt_lat\"]),\n",
    "            \"lon\": float(row[\"shape_pt_lon\"]),\n",
    "            \"type\": point_type\n",
    "        })\n",
    "\n",
    "    trace_attribute_json = {\n",
    "        \"shape\": points,\n",
    "        \"costing\": \"bus\",\n",
    "        \"costing_options\": {\n",
    "            \"bus\": {\n",
    "                \"ignore_oneways\": True,\n",
    "                \"ignore_restrictions\": True,\n",
    "                \"ignore_access\": True,\n",
    "                \"private_access_penalty\": 0\n",
    "            }\n",
    "        },\n",
    "        \"shape_match\": \"map_snap\",\n",
    "    }\n",
    "\n",
    "    trace_attribute_response = requests.post(\n",
    "        url=os.getenv('VALHALLA_URL')+'/trace_attributes',\n",
    "        headers=trace_attribute_headers,\n",
    "        data=json.dumps(trace_attribute_json)\n",
    "    )\n",
    "\n",
    "    matched_path = json.loads(trace_attribute_response.content)\n",
    "    shape_points = polyline.decode(matched_path[\"shape\"], precision=6)\n",
    "    folium.PolyLine(shape_points, color=\"red\", weight=2.5, opacity=1).add_to(m)\n",
    "\n",
    "    m.save('test_shape.html')\n",
    "\n",
    "    # Save each shape as a separate JSON file\n",
    "    #with open(f'shape_{shape_id}.json', \"w\") as f:\n",
    "    #    json.dump(trace_route_json, f, indent=2)"
   ]
  }
 ],
 "metadata": {
  "kernelspec": {
   "display_name": ".venv",
   "language": "python",
   "name": "python3"
  },
  "language_info": {
   "codemirror_mode": {
    "name": "ipython",
    "version": 3
   },
   "file_extension": ".py",
   "mimetype": "text/x-python",
   "name": "python",
   "nbconvert_exporter": "python",
   "pygments_lexer": "ipython3",
   "version": "3.13.3"
  }
 },
 "nbformat": 4,
 "nbformat_minor": 5
}
